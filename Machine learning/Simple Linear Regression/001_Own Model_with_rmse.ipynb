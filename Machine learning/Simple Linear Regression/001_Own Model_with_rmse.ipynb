{
 "cells": [
  {
   "cell_type": "code",
   "execution_count": 12,
   "metadata": {},
   "outputs": [
    {
     "data": {
      "image/png": "[encoded data removed]",
      "text/plain": [
       "<Figure size 432x288 with 1 Axes>"
      ]
     },
     "metadata": {
      "needs_background": "light"
     },
     "output_type": "display_data"
    },
    {
     "name": "stdout",
     "output_type": "stream",
     "text": [
      "[1.1999999999999995, 1.9999999999999996, 3.5999999999999996, 2.8, 4.3999999999999995]\n",
      "RMSE: 0.693\n"
     ]
    }
   ],
   "source": [
    "# Standalone simple linear regression example\n",
    "from math import sqrt\n",
    "import numpy as np\n",
    "import matplotlib.pyplot as plt \n",
    "%matplotlib inline\n",
    "def plot_regression_line(x, y, b): \n",
    "    # plotting the actual points as scatter plot \n",
    "    plt.scatter(x, y, color = \"m\", marker = \"o\", s = 30) \n",
    "    # predicted response vector \n",
    "    y_pred = b[0] + b[1]*np.array(x) \n",
    "    # plotting the regression line \n",
    "    plt.plot(x, y_pred, color = \"g\") \n",
    "    plt.scatter(x, y_pred, color = \"r\", marker = \"o\", s = 30) \n",
    "    # putting labels \n",
    "    plt.xlabel('x') \n",
    "    plt.ylabel('y') \n",
    "    # function to show plot \n",
    "    plt.show() \n",
    "# Calculate root mean squared error\n",
    "def rmse_metric(actual, predicted):\n",
    "        sum_sqr_error = 0.0\n",
    "        for i in range(len(actual)):\n",
    "            prediction_error = predicted[i] - actual[i]\n",
    "            sum_sqr_error += (prediction_error ** 2)\n",
    "        mean_sum_sqr_error = sum_sqr_error / float(len(actual))\n",
    "        rmse= sqrt(mean_sum_sqr_error)\n",
    "        return rmse\n",
    "\n",
    "# Evaluate regression algorithm on training dataset\n",
    "def evaluate_algorithm(dataset, algorithm):\n",
    "        test_set = list()\n",
    "        for row in dataset:\n",
    "            row_copy = list(row)\n",
    "            row_copy[-1] = None\n",
    "            test_set.append(row_copy)\n",
    "        predicted = algorithm(dataset, test_set)\n",
    "        print(predicted)\n",
    "        actual = [row[-1] for row in dataset]\n",
    "        rmse = rmse_metric(actual, predicted)\n",
    "        \n",
    "        return rmse\n",
    "'''\n",
    "# Calculate the mean value of a list of numbers\n",
    "def mean(values):\n",
    "        return sum(values) / float(len(values))\n",
    "\n",
    "# Calculate covariance between x and y\n",
    "def covariance(x, mean_x, y, mean_y):\n",
    "        covar = 0.0\n",
    "        for i in range(len(x)):\n",
    "            covar += (x[i] - mean_x) * (y[i] - mean_y)\n",
    "        return covar\n",
    "\n",
    "# Calculate the variance of a list of numbers\n",
    "def variance(values, mean):\n",
    "        return sum([(x-mean)**2 for x in values])\n",
    "'''\n",
    "# Calculate coefficients\n",
    "def coefficients(dataset):\n",
    "        x = [row[0] for row in dataset]\n",
    "        y = [row[1] for row in dataset]\n",
    "        #x_mean, y_mean = mean(x), mean(y)\n",
    "        # number of observations/points \n",
    "        n = np.size(x) \n",
    "        # mean of x and y vector \n",
    "        m_x, m_y = np.mean(x), np.mean(y) \n",
    "        M = np.sum((x - m_x) *(y-m_y)) / np.sum((x-m_x)**2)\n",
    "        C = m_y - M*m_x \n",
    "        plot_regression_line(x, y, (C,M))\n",
    "        return(C, M) \n",
    "# Simple linear regression algorithm\n",
    "def simple_linear_regression(train, test):\n",
    "        #print(train)\n",
    "        #print(test)\n",
    "        predictions = list()\n",
    "        b0, b1 = coefficients(train)\n",
    "        \n",
    "        for row in test:\n",
    "            X = row[0]\n",
    "            y_pre = b0 + b1 * X\n",
    "            predictions.append(y_pre)\n",
    "        return predictions\n",
    "        \n",
    "# Test simple linear regression\n",
    "dataset = [[1, 1], [2, 3], [4, 3], [3, 2], [5, 5]]\n",
    "rmse = evaluate_algorithm(dataset, simple_linear_regression)\n",
    "print('RMSE: %.3f' % (rmse))"
   ]
  },
  {
   "cell_type": "code",
   "execution_count": null,
   "metadata": {},
   "outputs": [],
   "source": []
  }
 ],
 "metadata": {
  "kernelspec": {
   "display_name": "Python 3",
   "language": "python",
   "name": "python3"
  },
  "language_info": {
   "codemirror_mode": {
    "name": "ipython",
    "version": 3
   },
   "file_extension": ".py",
   "mimetype": "text/x-python",
   "name": "python",
   "nbconvert_exporter": "python",
   "pygments_lexer": "ipython3",
   "version": "3.8.3"
  }
 },
 "nbformat": 4,
 "nbformat_minor": 2
}
