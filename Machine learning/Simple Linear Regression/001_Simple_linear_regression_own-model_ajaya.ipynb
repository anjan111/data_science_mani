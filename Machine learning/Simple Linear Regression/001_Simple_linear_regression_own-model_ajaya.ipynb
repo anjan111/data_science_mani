{
 "cells": [
  {
   "cell_type": "code",
   "execution_count": 1,
   "metadata": {},
   "outputs": [
    {
     "data": {
      "text/html": [
       "<div>\n",
       "<style scoped>\n",
       "    .dataframe tbody tr th:only-of-type {\n",
       "        vertical-align: middle;\n",
       "    }\n",
       "\n",
       "    .dataframe tbody tr th {\n",
       "        vertical-align: top;\n",
       "    }\n",
       "\n",
       "    .dataframe thead th {\n",
       "        text-align: right;\n",
       "    }\n",
       "</style>\n",
       "<table border=\"1\" class=\"dataframe\">\n",
       "  <thead>\n",
       "    <tr style=\"text-align: right;\">\n",
       "      <th></th>\n",
       "      <th>Age(year)</th>\n",
       "      <th>Height(ft)</th>\n",
       "    </tr>\n",
       "  </thead>\n",
       "  <tbody>\n",
       "    <tr>\n",
       "      <th>0</th>\n",
       "      <td>0.0</td>\n",
       "      <td>0.50</td>\n",
       "    </tr>\n",
       "    <tr>\n",
       "      <th>1</th>\n",
       "      <td>1.0</td>\n",
       "      <td>0.75</td>\n",
       "    </tr>\n",
       "    <tr>\n",
       "      <th>2</th>\n",
       "      <td>2.0</td>\n",
       "      <td>1.00</td>\n",
       "    </tr>\n",
       "    <tr>\n",
       "      <th>3</th>\n",
       "      <td>3.0</td>\n",
       "      <td>NaN</td>\n",
       "    </tr>\n",
       "    <tr>\n",
       "      <th>4</th>\n",
       "      <td>3.0</td>\n",
       "      <td>2.00</td>\n",
       "    </tr>\n",
       "  </tbody>\n",
       "</table>\n",
       "</div>"
      ],
      "text/plain": [
       "   Age(year)  Height(ft)\n",
       "0        0.0        0.50\n",
       "1        1.0        0.75\n",
       "2        2.0        1.00\n",
       "3        3.0         NaN\n",
       "4        3.0        2.00"
      ]
     },
     "execution_count": 1,
     "metadata": {},
     "output_type": "execute_result"
    }
   ],
   "source": [
    "# import the basic daata sciece lib\n",
    "import numpy as np\n",
    "import pandas as pd\n",
    "\n",
    "# import the datasets\n",
    "dataframe= pd.read_csv(\"age_height.csv\")\n",
    "dataframe.head()"
   ]
  },
  {
   "cell_type": "code",
   "execution_count": 2,
   "metadata": {},
   "outputs": [
    {
     "data": {
      "text/plain": [
       "Age(year)     0\n",
       "Height(ft)    3\n",
       "dtype: int64"
      ]
     },
     "execution_count": 2,
     "metadata": {},
     "output_type": "execute_result"
    }
   ],
   "source": [
    "# handling the missing data\n",
    "dataframe.isnull().sum()"
   ]
  },
  {
   "cell_type": "code",
   "execution_count": 3,
   "metadata": {},
   "outputs": [
    {
     "name": "stdout",
     "output_type": "stream",
     "text": [
      "10.62\n",
      "4.10681818182\n"
     ]
    }
   ],
   "source": [
    "# we have 3 NaN data records just \n",
    "# i can use replace mean by NaN\n",
    "age_mean = dataframe['Age(year)'].mean()\n",
    "Hei_mean = dataframe['Height(ft)'].mean()\n",
    "print age_mean\n",
    "print Hei_mean"
   ]
  },
  {
   "cell_type": "code",
   "execution_count": 4,
   "metadata": {},
   "outputs": [],
   "source": [
    "dataframe['Age(year)'] = dataframe['Age(year)'].replace(np.NaN,age_mean)"
   ]
  },
  {
   "cell_type": "code",
   "execution_count": 5,
   "metadata": {},
   "outputs": [],
   "source": [
    "dataframe['Height(ft)'] = dataframe['Height(ft)'].replace(np.NaN,Hei_mean)"
   ]
  },
  {
   "cell_type": "code",
   "execution_count": 6,
   "metadata": {},
   "outputs": [
    {
     "data": {
      "text/plain": [
       "Age(year)     0\n",
       "Height(ft)    0\n",
       "dtype: int64"
      ]
     },
     "execution_count": 6,
     "metadata": {},
     "output_type": "execute_result"
    }
   ],
   "source": [
    "dataframe.isnull().sum()"
   ]
  },
  {
   "cell_type": "code",
   "execution_count": 7,
   "metadata": {},
   "outputs": [
    {
     "name": "stdout",
     "output_type": "stream",
     "text": [
      "[[ 0. ]\n",
      " [ 1. ]\n",
      " [ 2. ]\n",
      " [ 3. ]\n",
      " [ 3. ]\n",
      " [ 4. ]\n",
      " [ 5. ]\n",
      " [ 5.5]\n",
      " [ 6. ]\n",
      " [ 7. ]\n",
      " [ 8. ]\n",
      " [10. ]\n",
      " [11. ]\n",
      " [13. ]\n",
      " [12. ]\n",
      " [13. ]\n",
      " [14. ]\n",
      " [15. ]\n",
      " [16. ]\n",
      " [17. ]\n",
      " [18. ]\n",
      " [19. ]\n",
      " [20. ]\n",
      " [21. ]\n",
      " [22. ]]\n",
      "*****\n",
      "[[0.5       ]\n",
      " [0.75      ]\n",
      " [1.        ]\n",
      " [4.10681818]\n",
      " [2.        ]\n",
      " [2.5       ]\n",
      " [3.        ]\n",
      " [4.10681818]\n",
      " [3.5       ]\n",
      " [3.75      ]\n",
      " [4.        ]\n",
      " [4.2       ]\n",
      " [4.5       ]\n",
      " [4.10681818]\n",
      " [4.75      ]\n",
      " [5.        ]\n",
      " [5.1       ]\n",
      " [5.3       ]\n",
      " [5.5       ]\n",
      " [5.6       ]\n",
      " [5.7       ]\n",
      " [5.8       ]\n",
      " [5.9       ]\n",
      " [6.        ]\n",
      " [6.        ]]\n"
     ]
    }
   ],
   "source": [
    "# predict the height Based age \n",
    "# age  ---> X , Independed Feature\n",
    "# Height --> y , depended Feature\n",
    "X = dataframe.iloc[:,0:1].values\n",
    "y = dataframe.iloc[:,1:2].values\n",
    "print X\n",
    "print \"*****\"\n",
    "print y"
   ]
  },
  {
   "cell_type": "code",
   "execution_count": 8,
   "metadata": {},
   "outputs": [
    {
     "name": "stdout",
     "output_type": "stream",
     "text": [
      "2\n",
      "2\n",
      "****\n",
      "(25L, 1L)\n",
      "(25L, 1L)\n"
     ]
    }
   ],
   "source": [
    "print X.ndim\n",
    "print y.ndim\n",
    "print \"****\"\n",
    "print X.shape\n",
    "print y.shape\n"
   ]
  },
  {
   "cell_type": "code",
   "execution_count": 19,
   "metadata": {},
   "outputs": [],
   "source": [
    "# regression \n",
    "# train_test_split  ---> sklearn.model_selection\n",
    "from sklearn.model_selection  import train_test_split\n",
    "X_train,X_test,y_train,y_test = train_test_split(X,y,train_size = 0.8,random_state= 0)"
   ]
  },
  {
   "cell_type": "code",
   "execution_count": 20,
   "metadata": {},
   "outputs": [
    {
     "name": "stdout",
     "output_type": "stream",
     "text": [
      "[[20. ]\n",
      " [15. ]\n",
      " [22. ]\n",
      " [21. ]\n",
      " [12. ]\n",
      " [ 1. ]\n",
      " [ 8. ]\n",
      " [13. ]\n",
      " [ 6. ]\n",
      " [ 5. ]\n",
      " [16. ]\n",
      " [ 3. ]\n",
      " [ 7. ]\n",
      " [ 5.5]\n",
      " [18. ]\n",
      " [ 3. ]\n",
      " [ 0. ]\n",
      " [19. ]\n",
      " [13. ]\n",
      " [11. ]]\n",
      "[[5.9       ]\n",
      " [5.3       ]\n",
      " [6.        ]\n",
      " [6.        ]\n",
      " [4.75      ]\n",
      " [0.75      ]\n",
      " [4.        ]\n",
      " [4.10681818]\n",
      " [3.5       ]\n",
      " [3.        ]\n",
      " [5.5       ]\n",
      " [2.        ]\n",
      " [3.75      ]\n",
      " [4.10681818]\n",
      " [5.7       ]\n",
      " [4.10681818]\n",
      " [0.5       ]\n",
      " [5.8       ]\n",
      " [5.        ]\n",
      " [4.5       ]]\n"
     ]
    }
   ],
   "source": [
    "print X_train\n",
    "print y_train"
   ]
  },
  {
   "cell_type": "code",
   "execution_count": 14,
   "metadata": {},
   "outputs": [],
   "source": [
    "# linear Regression\n",
    "from sklearn.linear_model import LinearRegression\n",
    "lr = LinearRegression()\n"
   ]
  },
  {
   "cell_type": "code",
   "execution_count": 21,
   "metadata": {},
   "outputs": [
    {
     "name": "stdout",
     "output_type": "stream",
     "text": [
      "(20L, 1L)\n",
      "(20L, 1L)\n"
     ]
    }
   ],
   "source": [
    "print X_train.shape\n",
    "print y_train.shape\n",
    "#lr.fit()\n"
   ]
  },
  {
   "cell_type": "code",
   "execution_count": 23,
   "metadata": {},
   "outputs": [
    {
     "data": {
      "text/plain": [
       "LinearRegression(copy_X=True, fit_intercept=True, n_jobs=None,\n",
       "         normalize=False)"
      ]
     },
     "execution_count": 23,
     "metadata": {},
     "output_type": "execute_result"
    }
   ],
   "source": [
    "lr.fit(X_train,y_train)"
   ]
  },
  {
   "cell_type": "code",
   "execution_count": 26,
   "metadata": {},
   "outputs": [],
   "source": [
    "# Y = B0 + B1 * X\n",
    "B0 = lr.intercept_\n",
    "B1 = lr.coef_"
   ]
  },
  {
   "cell_type": "code",
   "execution_count": 27,
   "metadata": {},
   "outputs": [
    {
     "name": "stdout",
     "output_type": "stream",
     "text": [
      "Y =  [1.9061999]  +  [[0.2111966]]  *   X\n"
     ]
    }
   ],
   "source": [
    "print \"Y = \", B0 , \" + \",B1,\" *   X\""
   ]
  },
  {
   "cell_type": "code",
   "execution_count": 29,
   "metadata": {},
   "outputs": [
    {
     "data": {
      "text/plain": [
       "array([[4.22936247]])"
      ]
     },
     "execution_count": 29,
     "metadata": {},
     "output_type": "execute_result"
    }
   ],
   "source": [
    "# find the hei when person having 11 year\n",
    "lr.predict([[11]])"
   ]
  },
  {
   "cell_type": "code",
   "execution_count": 31,
   "metadata": {},
   "outputs": [],
   "source": [
    "y_pre = lr.predict(X_test)"
   ]
  },
  {
   "cell_type": "code",
   "execution_count": 32,
   "metadata": {},
   "outputs": [
    {
     "name": "stdout",
     "output_type": "stream",
     "text": [
      "0.38562251182156015\n"
     ]
    }
   ],
   "source": [
    "from sklearn.metrics import mean_squared_error as mse\n",
    "error = mse(y_test,y_pre)\n",
    "print error"
   ]
  },
  {
   "cell_type": "code",
   "execution_count": 34,
   "metadata": {},
   "outputs": [
    {
     "name": "stdout",
     "output_type": "stream",
     "text": [
      "Y =  [1.9061999]  +  [[0.2111966]]  *   X  (+/-)  0.38562251182156015\n"
     ]
    }
   ],
   "source": [
    "print \"Y = \", B0 , \" + \",B1,\" *   X\" , \" (+/-) \",error"
   ]
  },
  {
   "cell_type": "code",
   "execution_count": 36,
   "metadata": {},
   "outputs": [
    {
     "name": "stdout",
     "output_type": "stream",
     "text": [
      "0.867465455106695\n"
     ]
    }
   ],
   "source": [
    "from sklearn.metrics import r2_score as r2_score\n",
    "print r2_score(y_test,y_pre)"
   ]
  },
  {
   "cell_type": "code",
   "execution_count": 37,
   "metadata": {},
   "outputs": [],
   "source": [
    "import matplotlib.pyplot as plt\n",
    "%matplotlib inline "
   ]
  },
  {
   "cell_type": "code",
   "execution_count": 41,
   "metadata": {},
   "outputs": [
    {
     "data": {
      "image/png": "[encoded data removed]",
      "text/plain": [
       "<Figure size 432x288 with 1 Axes>"
      ]
     },
     "metadata": {
      "needs_background": "light"
     },
     "output_type": "display_data"
    }
   ],
   "source": [
    "plt.scatter(X_train,y_train)\n",
    "plt.plot(X_test , y_pre)\n",
    "#plt.plot(X_test,y_test)\n",
    "plt.xlabel(\"Age\")\n",
    "plt.ylabel(\"height\")\n",
    "plt.title(\"simple Linear Regression for Age Vs Height \")\n",
    "plt.show()"
   ]
  },
  {
   "cell_type": "code",
   "execution_count": 42,
   "metadata": {},
   "outputs": [
    {
     "data": {
      "image/png": "[encoded data removed]",
      "text/plain": [
       "<Figure size 432x288 with 1 Axes>"
      ]
     },
     "metadata": {
      "needs_background": "light"
     },
     "output_type": "display_data"
    }
   ],
   "source": [
    "#plt.scatter(X_train,y_train)\n",
    "plt.plot(X_test , y_pre)\n",
    "#plt.plot(X_test,y_test)\n",
    "plt.xlabel(\"Age\")\n",
    "plt.ylabel(\"height\")\n",
    "plt.title(\"simple Linear Regression for Age Vs Height \")\n",
    "plt.show()"
   ]
  },
  {
   "cell_type": "code",
   "execution_count": 43,
   "metadata": {},
   "outputs": [
    {
     "data": {
      "image/png": "[encoded data removed]",
      "text/plain": [
       "<Figure size 432x288 with 1 Axes>"
      ]
     },
     "metadata": {
      "needs_background": "light"
     },
     "output_type": "display_data"
    }
   ],
   "source": [
    "#plt.scatter(X_train,y_train)\n",
    "plt.plot(X_test , y_pre)\n",
    "plt.scatter(X_test,y_test)\n",
    "plt.xlabel(\"Age\")\n",
    "plt.ylabel(\"height\")\n",
    "plt.title(\"simple Linear Regression for Age Vs Height \")\n",
    "plt.show()"
   ]
  },
  {
   "cell_type": "code",
   "execution_count": 50,
   "metadata": {},
   "outputs": [
    {
     "data": {
      "image/png": "[encoded data removed]",
      "text/plain": [
       "<Figure size 432x288 with 1 Axes>"
      ]
     },
     "metadata": {
      "needs_background": "light"
     },
     "output_type": "display_data"
    }
   ],
   "source": [
    "# error term\n",
    "\n",
    "len1 = np.arange(len(X_train)) # ID \n",
    "len1 = len1[:,np.newaxis]\n",
    "plt.plot(len1 ,  y_train - lr.predict(X_train))\n",
    "\n",
    "plt.xlabel(\"numbers\")\n",
    "plt.ylabel(\"error term\")\n",
    "plt.title(\"simple Linear Regression for Age Vs Height  error \")\n",
    "plt.show()"
   ]
  },
  {
   "cell_type": "code",
   "execution_count": null,
   "metadata": {},
   "outputs": [],
   "source": []
  }
 ],
 "metadata": {
  "kernelspec": {
   "display_name": "Python 3",
   "language": "python",
   "name": "python3"
  },
  "language_info": {
   "codemirror_mode": {
    "name": "ipython",
    "version": 3
   },
   "file_extension": ".py",
   "mimetype": "text/x-python",
   "name": "python",
   "nbconvert_exporter": "python",
   "pygments_lexer": "ipython3",
   "version": "3.8.3"
  }
 },
 "nbformat": 4,
 "nbformat_minor": 2
}
