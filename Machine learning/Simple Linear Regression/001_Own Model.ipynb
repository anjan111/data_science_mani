{
 "cells": [
  {
   "cell_type": "code",
   "execution_count": 1,
   "metadata": {},
   "outputs": [
    {
     "name": "stdout",
     "output_type": "stream",
     "text": [
      "predicted data : [1.5999999999999996, 2.1999999999999997, 3.4, 2.8, 4.0]\n",
      "RMSE: 0.748\n"
     ]
    }
   ],
   "source": [
    "# Standalone simple linear regression example\n",
    "from math import sqrt\n",
    "\n",
    "# Calculate root mean squared error\n",
    "def rmse_metric(actual, predicted):\n",
    "        sum_error = 0.0\n",
    "        for i in range(len(actual)):\n",
    "            prediction_error = predicted[i] - actual[i]\n",
    "            sum_error += (prediction_error ** 2)\n",
    "        mean_error = sum_error / float(len(actual))\n",
    "        return sqrt(mean_error)\n",
    "\n",
    "# Evaluate regression algorithm on training dataset\n",
    "def evaluate_algorithm(dataset, algorithm):\n",
    "        test_set = list()\n",
    "        for row in dataset:\n",
    "            row_copy = list(row)\n",
    "            row_copy[-1] = None\n",
    "            test_set.append(row_copy)\n",
    "        predicted = algorithm(dataset, test_set)\n",
    "        print(\"predicted data :\",predicted)\n",
    "        actual = [row[-1] for row in dataset]\n",
    "        rmse = rmse_metric(actual, predicted)\n",
    "        return rmse\n",
    "\n",
    "# Calculate the mean value of a list of numbers\n",
    "def mean(values):\n",
    "        return sum(values) / float(len(values))\n",
    "\n",
    "# Calculate covariance between x and y\n",
    "def covariance(x, mean_x, y, mean_y):\n",
    "        covar = []\n",
    "        for i in range(len(x)):\n",
    "            covar.append( (x[i] - mean_x) * (y[i] - mean_y))\n",
    "        return sum(covar) / len(covar)-1\n",
    "\n",
    "# Calculate the variance of a list of numbers\n",
    "def variance(values, mean):\n",
    "        #return sum([(x-mean)**2 for x in values]) / len(values)-1\n",
    "        var = []\n",
    "        for x in values:\n",
    "            var.append((x-mean)**2)\n",
    "        return sum(var)/len(var)-1\n",
    "            \n",
    "\n",
    "# Calculate coefficients\n",
    "def coefficients(dataset):\n",
    "        x = [row[0] for row in dataset]\n",
    "        y = [row[1] for row in dataset]\n",
    "        x_mean, y_mean = mean(x), mean(y)\n",
    "        b1 = covariance(x, x_mean, y, y_mean) / variance(x, x_mean)\n",
    "        b0 = y_mean - b1 * x_mean\n",
    "        return [b0, b1]\n",
    "\n",
    "# Simple linear regression algorithm\n",
    "def simple_linear_regression(train, test):\n",
    "        predictions = list()\n",
    "        b0, b1 = coefficients(train)\n",
    "        for row in test:\n",
    "            X_test = row[0]\n",
    "            yhat = b0 + b1 * X_test\n",
    "            predictions.append(yhat)\n",
    "        return predictions\n",
    "\n",
    "# Test simple linear regression\n",
    "dataset = [[1, 1], [2, 3], [4, 3], [3, 2], [5, 5]]\n",
    "rmse = evaluate_algorithm(dataset, simple_linear_regression)\n",
    "print('RMSE: %.3f' % (rmse))"
   ]
  },
  {
   "cell_type": "code",
   "execution_count": null,
   "metadata": {},
   "outputs": [],
   "source": [
    "# how user defined funcion can create\n",
    "# what is covariance  , variance , mean , root mean square error"
   ]
  }
 ],
 "metadata": {
  "kernelspec": {
   "display_name": "Python 3",
   "language": "python",
   "name": "python3"
  },
  "language_info": {
   "codemirror_mode": {
    "name": "ipython",
    "version": 3
   },
   "file_extension": ".py",
   "mimetype": "text/x-python",
   "name": "python",
   "nbconvert_exporter": "python",
   "pygments_lexer": "ipython3",
   "version": "3.8.3"
  }
 },
 "nbformat": 4,
 "nbformat_minor": 2
}
